{
 "cells": [
  {
   "cell_type": "code",
   "execution_count": 99,
   "id": "12623c0f",
   "metadata": {},
   "outputs": [],
   "source": [
    "# 1. Import the following libraries: \n",
    "# pip install pandas numpy matplotlib statsmodels scikit-learn\n",
    "\n",
    "# pandas (for data manipulation)\n",
    "import pandas as pd\n",
    "    \n",
    "# numpy (for numerical operations)\n",
    "import numpy as np\n",
    "    \n",
    "# matplotlib (for data visualization)\n",
    "import matplotlib as plt \n",
    "    \n",
    "# statsmodels (to use ARIMA)\n",
    "from statsmodels.tsa.arima.model import ARIMA\n",
    "from statsmodels.tsa.stattools import adfuller, acf, pacf\n",
    "\n",
    "# scikit-learn (for error metrics)\n",
    "from sklearn.metrics import mean_squared_error"
   ]
  },
  {
   "cell_type": "code",
   "execution_count": 100,
   "id": "fa819972",
   "metadata": {
    "scrolled": true
   },
   "outputs": [],
   "source": [
    "# 2. Importing stock data using AlphaVantage API\n",
    "\n",
    "# !pip install alpha_vantage\n",
    "\n",
    "from alpha_vantage.timeseries import TimeSeries\n",
    "\n",
    "#Free API key\n",
    "key = 'UO4WWNLT3XIKJ6EI'\n",
    "\n",
    "# Create TimeSeries object\n",
    "ts = TimeSeries(key, output_format='pandas') #requires input of key and output format (default is json)\n",
    "\n",
    "# Sample API Call for Tesla\n",
    "#objects come with a data and a meta component (will likely only need data component), require a stock symbol + interval + output size\n",
    "data, meta = ts.get_intraday('TSLA', interval = '1min', outputsize='full')"
   ]
  },
  {
   "cell_type": "code",
   "execution_count": 101,
   "id": "24505498",
   "metadata": {},
   "outputs": [],
   "source": [
    "# 3. Modify the dataset\n",
    "\n",
    "# Keep relevant columns - closing price and date\n",
    "closing_data = data['4. close']"
   ]
  },
  {
   "cell_type": "code",
   "execution_count": 102,
   "id": "b31c7cfe",
   "metadata": {},
   "outputs": [
    {
     "name": "stdout",
     "output_type": "stream",
     "text": [
      "                     4. close\n",
      "date                         \n",
      "2024-01-12 19:59:00    218.99\n",
      "2024-01-12 19:58:00    218.86\n",
      "2024-01-12 19:57:00    218.79\n",
      "2024-01-12 19:56:00    218.80\n",
      "2024-01-12 19:55:00    218.78\n",
      "...                       ...\n",
      "2023-12-26 04:04:00    254.31\n",
      "2023-12-26 04:03:00    254.37\n",
      "2023-12-26 04:02:00    254.38\n",
      "2023-12-26 04:01:00    254.10\n",
      "2023-12-26 04:00:00    253.88\n",
      "\n",
      "[12479 rows x 1 columns]\n",
      "                     4. close\n",
      "date                         \n",
      "2023-12-26 04:00:00    253.88\n",
      "2023-12-26 04:01:00    254.10\n",
      "2023-12-26 04:02:00    254.38\n",
      "2023-12-26 04:03:00    254.37\n",
      "2023-12-26 04:04:00    254.31\n",
      "...                       ...\n",
      "2024-01-12 19:55:00    218.78\n",
      "2024-01-12 19:56:00    218.80\n",
      "2024-01-12 19:57:00    218.79\n",
      "2024-01-12 19:58:00    218.86\n",
      "2024-01-12 19:59:00    218.99\n",
      "\n",
      "[12479 rows x 1 columns]\n",
      "Training data:                       4. close\n",
      "date                         \n",
      "2023-12-26 04:00:00    253.88\n",
      "2023-12-26 04:01:00    254.10\n",
      "2023-12-26 04:02:00    254.38\n",
      "2023-12-26 04:03:00    254.37\n",
      "2023-12-26 04:04:00    254.31\n",
      "...                       ...\n",
      "2024-01-09 05:31:00    238.91\n",
      "2024-01-09 05:32:00    238.99\n",
      "2024-01-09 05:33:00    239.00\n",
      "2024-01-09 05:34:00    239.05\n",
      "2024-01-09 05:35:00    238.99\n",
      "\n",
      "[8735 rows x 1 columns]\n",
      "Testing data:                       4. close\n",
      "date                         \n",
      "2024-01-09 05:36:00    239.00\n",
      "2024-01-09 05:37:00    239.09\n",
      "2024-01-09 05:38:00    239.05\n",
      "2024-01-09 05:39:00    239.10\n",
      "2024-01-09 05:40:00    239.06\n",
      "...                       ...\n",
      "2024-01-12 19:55:00    218.78\n",
      "2024-01-12 19:56:00    218.80\n",
      "2024-01-12 19:57:00    218.79\n",
      "2024-01-12 19:58:00    218.86\n",
      "2024-01-12 19:59:00    218.99\n",
      "\n",
      "[3744 rows x 1 columns]\n"
     ]
    }
   ],
   "source": [
    "# 4. Separate the data into training and testing datasets\n",
    "\n",
    "# Create a DataFrame using the closing price data\n",
    "df = pd.DataFrame(closing_data)\n",
    "\n",
    "print(df)\n",
    "\n",
    "# Split data into 70-30 training-testing data sets\n",
    "# Sort df by ascending order (most recent date comes last)\n",
    "df.sort_index(ascending=True, inplace=True)\n",
    "\n",
    "print(df)\n",
    "\n",
    "# train_size represents the first 70% of all rows; use this index to slice the data\n",
    "train_size = int(len(df) * 0.7)\n",
    "\n",
    "# Training data will include all rows starting from the first row up to the row indicated by 'train_size'\n",
    "train_data = df.iloc[:train_size]\n",
    "# The rest 30% will be included in testing data\n",
    "test_data = df.iloc[train_size:]\n",
    "\n",
    "print(\"Training data: \", train_data)\n",
    "print(\"Testing data: \", test_data)"
   ]
  },
  {
   "cell_type": "code",
   "execution_count": 103,
   "id": "1e2c8836",
   "metadata": {},
   "outputs": [
    {
     "data": {
      "text/plain": [
       "<Axes: xlabel='date'>"
      ]
     },
     "execution_count": 103,
     "metadata": {},
     "output_type": "execute_result"
    },
    {
     "data": {
      "image/png": "[encoded data removed]",
      "text/plain": [
       "<Figure size 640x480 with 1 Axes>"
      ]
     },
     "metadata": {},
     "output_type": "display_data"
    }
   ],
   "source": [
    "# 5.1 Visualize the data\n",
    "\n",
    "# Plot the data for visualization\n",
    "closing_data.plot()"
   ]
  },
  {
   "cell_type": "code",
   "execution_count": 104,
   "id": "9c8e7a21",
   "metadata": {},
   "outputs": [
    {
     "name": "stdout",
     "output_type": "stream",
     "text": [
      "p-value:  0.4067806478510334\n",
      "p-value:  0.0\n",
      "\n",
      "d value:  1\n"
     ]
    }
   ],
   "source": [
    "# 5.2 Conduct the ADF test and determine the value for d \n",
    "\n",
    "# Conduct the ADF test, which determines if the data is stationary or not\n",
    "result = adfuller(closing_data)\n",
    "\n",
    "# Keeps track of the number of times differencing was needed \n",
    "d = 0\n",
    "\n",
    "# If the data is not stationary, differencing is needed to convert it into stationary data\n",
    "# The p-value has to be less than 0.05 for the dataset to be considered stationary \n",
    "while True:\n",
    "    print('p-value: ', result[1])\n",
    "    if result[1] < 0.05:\n",
    "        break\n",
    "    else:\n",
    "        result = adfuller(closing_data.diff().dropna())\n",
    "        d += 1\n",
    "\n",
    "print('\\nd value: ', d)"
   ]
  },
  {
   "cell_type": "code",
   "execution_count": 105,
   "id": "38d2bd85",
   "metadata": {},
   "outputs": [],
   "source": [
    "# 6. Optimize the parameters (p, d, q) and create the ARIMA model\n",
    "\n",
    "    # Determine (p,d,q) based on the data's characteristics\n",
    "    # ACF plot is used to determine p (autoregressive AR)\n",
    "    # PACF plot is used to determine q (moving average MA)\n",
    "    \n",
    "    # Create the ARIMA model object and fit it to the data\n",
    "    \n",
    "    # Examples of useful python code:\n",
    "    # p, d, q = 1, 1, 1\n",
    "    # model = ARIMA(data, order(p,d,q))\n",
    "    # model_fit = model.fit()"
   ]
  },
  {
   "cell_type": "code",
   "execution_count": 106,
   "id": "abf394ff",
   "metadata": {},
   "outputs": [
    {
     "name": "stdout",
     "output_type": "stream",
     "text": [
      "p value:  2\n",
      "q value:  3\n"
     ]
    }
   ],
   "source": [
    "# 6.1 Determine the best p and q values\n",
    "# The best p,q,d values will produce the lowest aic value \n",
    "\n",
    "import warnings\n",
    "warnings.filterwarnings(\"ignore\")\n",
    "\n",
    "# Defines ranges for p and q\n",
    "p = q = range(0, 4)\n",
    "\n",
    "# List to store all pdq combinations\n",
    "pdq = []\n",
    "# Appends each combination of p,d,q to the list\n",
    "for p_value in p:\n",
    "    for q_value in q:\n",
    "        pdq.append((p_value, d, q_value))\n",
    "\n",
    "# Initialize best aic to start at infinity\n",
    "best_aic = float('inf')  \n",
    "# Initialize best pqd combination \n",
    "best_pdq = None\n",
    "\n",
    "# Test each combination \n",
    "for combination in pdq:\n",
    "    # Fit the arima model \n",
    "    model = ARIMA(closing_data, order=(combination))\n",
    "    model_fit = model.fit()\n",
    "    \n",
    "    # If the aic value is lower than the current best aic, it will be replaced\n",
    "    if model_fit.aic < best_aic:\n",
    "        best_aic = model_fit.aic\n",
    "        best_pdq = combination\n",
    "\n",
    "# Extract the p and q values\n",
    "p = best_pdq[0]\n",
    "q = best_pdq[2]\n",
    "\n",
    "print('p value: ', p)\n",
    "print('q value: ', q)"
   ]
  },
  {
   "cell_type": "code",
   "execution_count": 107,
   "id": "943f6e15",
   "metadata": {},
   "outputs": [
    {
     "name": "stdout",
     "output_type": "stream",
     "text": [
      "                               SARIMAX Results                                \n",
      "==============================================================================\n",
      "Dep. Variable:               4. close   No. Observations:                12479\n",
      "Model:                 ARIMA(2, 1, 3)   Log Likelihood               -3867.091\n",
      "Date:                Tue, 16 Jan 2024   AIC                           7746.183\n",
      "Time:                        01:48:30   BIC                           7790.773\n",
      "Sample:                             0   HQIC                          7761.111\n",
      "                              - 12479                                         \n",
      "Covariance Type:                  opg                                         \n",
      "==============================================================================\n",
      "                 coef    std err          z      P>|z|      [0.025      0.975]\n",
      "------------------------------------------------------------------------------\n",
      "ar.L1         -0.5683      0.088     -6.423      0.000      -0.742      -0.395\n",
      "ar.L2          0.3810      0.096      3.986      0.000       0.194       0.568\n",
      "ma.L1          0.1216      0.089      1.373      0.170      -0.052       0.295\n",
      "ma.L2         -0.6554      0.059    -11.186      0.000      -0.770      -0.541\n",
      "ma.L3          0.1341      0.044      3.057      0.002       0.048       0.220\n",
      "sigma2         0.1088   8.19e-05   1328.428      0.000       0.109       0.109\n",
      "===================================================================================\n",
      "Ljung-Box (L1) (Q):                   0.00   Jarque-Bera (JB):         514155191.49\n",
      "Prob(Q):                              0.98   Prob(JB):                         0.00\n",
      "Heteroskedasticity (H):               3.09   Skew:                             1.41\n",
      "Prob(H) (two-sided):                  0.00   Kurtosis:                       997.44\n",
      "===================================================================================\n",
      "\n",
      "Warnings:\n",
      "[1] Covariance matrix calculated using the outer product of gradients (complex-step).\n"
     ]
    }
   ],
   "source": [
    "# 6.2 Create the ARIMA model with the p, d, q values determined\n",
    "model = ARIMA(closing_data, order=(p,d,q))\n",
    "model_fit = model.fit()\n",
    "print(model_fit.summary())"
   ]
  },
  {
   "cell_type": "code",
   "execution_count": 108,
   "id": "4a8ebe41",
   "metadata": {},
   "outputs": [
    {
     "name": "stdout",
     "output_type": "stream",
     "text": [
      "                               SARIMAX Results                                \n",
      "==============================================================================\n",
      "Dep. Variable:               4. close   No. Observations:                 8735\n",
      "Model:                 ARIMA(2, 1, 3)   Log Likelihood               -3674.299\n",
      "Date:                Tue, 16 Jan 2024   AIC                           7360.598\n",
      "Time:                        01:48:43   BIC                           7403.048\n",
      "Sample:                             0   HQIC                          7375.065\n",
      "                               - 8735                                         \n",
      "Covariance Type:                  opg                                         \n",
      "==============================================================================\n",
      "                 coef    std err          z      P>|z|      [0.025      0.975]\n",
      "------------------------------------------------------------------------------\n",
      "ar.L1         -0.8681      0.095     -9.125      0.000      -1.055      -0.682\n",
      "ar.L2          0.0896      0.107      0.834      0.404      -0.121       0.300\n",
      "ma.L1          0.3632      0.095      3.817      0.000       0.177       0.550\n",
      "ma.L2         -0.5577      0.061     -9.103      0.000      -0.678      -0.438\n",
      "ma.L3          0.0024      0.056      0.044      0.965      -0.106       0.111\n",
      "sigma2         0.1358      0.000   1351.701      0.000       0.136       0.136\n",
      "===================================================================================\n",
      "Ljung-Box (L1) (Q):                   0.00   Jarque-Bera (JB):         294252916.08\n",
      "Prob(Q):                              0.99   Prob(JB):                         0.00\n",
      "Heteroskedasticity (H):               0.25   Skew:                             1.72\n",
      "Prob(H) (two-sided):                  0.00   Kurtosis:                       902.20\n",
      "===================================================================================\n",
      "\n",
      "Warnings:\n",
      "[1] Covariance matrix calculated using the outer product of gradients (complex-step).\n"
     ]
    }
   ],
   "source": [
    "# 6.3 Train the ARIMA model with the training data and the p, d, q values determined\n",
    "model = ARIMA(train_data['4. close'], order=(p,d,q))\n",
    "model_fit = model.fit()\n",
    "print(model_fit.summary())"
   ]
  },
  {
   "cell_type": "code",
   "execution_count": 109,
   "id": "38f5aa97",
   "metadata": {},
   "outputs": [
    {
     "name": "stdout",
     "output_type": "stream",
     "text": [
      "steps:  3743\n",
      "Predicted value:\n",
      " 12479    218.918003\n",
      "12480    218.913042\n",
      "12481    218.909739\n",
      "12482    218.909723\n",
      "12483    218.908472\n",
      "            ...    \n",
      "16217    218.908664\n",
      "16218    218.908664\n",
      "16219    218.908664\n",
      "16220    218.908664\n",
      "16221    218.908664\n",
      "Name: predicted_mean, Length: 3743, dtype: float64\n"
     ]
    }
   ],
   "source": [
    "# 7. Make out-of-sample predictions (forecasting)\n",
    "\n",
    "# fit the model to the DataFrame which includes all of the given data\n",
    "model = ARIMA(df, order=(p,d,q))\n",
    "model_fit = model.fit()\n",
    "\n",
    "# make future predictions for extra 30% past the most recent data\n",
    "forecast_steps = int(len(df) * 0.3)\n",
    "print(\"steps: \", forecast_steps)\n",
    "# use steps parameter for # of future steps to forecast\n",
    "forecast = model_fit.forecast(steps=forecast_steps)\n",
    "print(\"Predicted value:\\n\", forecast)"
   ]
  },
  {
   "cell_type": "code",
   "execution_count": null,
   "id": "c8d45a5e",
   "metadata": {},
   "outputs": [],
   "source": []
  }
 ],
 "metadata": {
  "kernelspec": {
   "display_name": "Python 3 (ipykernel)",
   "language": "python",
   "name": "python3"
  },
  "language_info": {
   "codemirror_mode": {
    "name": "ipython",
    "version": 3
   },
   "file_extension": ".py",
   "mimetype": "text/x-python",
   "name": "python",
   "nbconvert_exporter": "python",
   "pygments_lexer": "ipython3",
   "version": "3.11.5"
  }
 },
 "nbformat": 4,
 "nbformat_minor": 5
}
