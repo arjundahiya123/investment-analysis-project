{
 "cells": [
  {
   "cell_type": "code",
   "execution_count": 30,
   "id": "1abc3e92-acbb-49db-b5cc-ddefe7177a9e",
   "metadata": {},
   "outputs": [],
   "source": [
    "# 1: Import libraries: numpy (np), pandas (pd)\n",
    "# skLearn is a machine learning library\n",
    "from sklearn.preprocessing import MinMaxScaler\n",
    "from sklearn.model_selection import train_test_split\n",
    "from tensorflow.keras.models import Sequential\n",
    "from tensorflow.keras.layers import LSTM, Dense"
   ]
  },
  {
   "cell_type": "code",
   "execution_count": 31,
   "id": "6a1fb022-f712-4091-be7e-f2ada5aa207f",
   "metadata": {},
   "outputs": [],
   "source": [
    "# 2. Importing stock data using AlphaVantage API\n",
    "\n",
    "\n",
    "#Install AlphaVantage and import libraries if not already imported\n",
    "# !pip install alpha_vantage\n",
    "import pandas as pd\n",
    "import matplotlib.pyplot as plt\n",
    "from alpha_vantage.timeseries import TimeSeries\n",
    "import numpy as np\n",
    "\n",
    "#Free API key\n",
    "key = 'UO4WWNLT3XIKJ6EI'\n",
    "\n",
    "# Create TimeSeries object\n",
    "ts = TimeSeries(key, output_format='pandas') #requires input of key and output format (default is json)\n",
    "\n",
    "# Sample API Call for Tesla\n",
    "#objects come with a data and a meta component (will likely only need data component), require a stock symbol + interval + output size\n",
    "stock_data, meta = ts.get_intraday('TSLA', interval = '1min', outputsize='full')\n",
    "stock_data.rename(columns={'1. open': 'Open', '2. high': 'High', '3. low': 'Low', '4. close': 'Close', '5. volume': 'Volume'}, inplace=True)"
   ]
  },
  {
   "cell_type": "code",
   "execution_count": 32,
   "id": "b7daa9b0-2715-4ec1-830d-2d85bfe81d13",
   "metadata": {},
   "outputs": [],
   "source": [
    "# 3: Preprocessing on the data\n",
    "# Shift closing prices by one day to create target variable (next day's closing price): \n",
    "stock_data['Next_Close'] = stock_data['Close'].shift(-1)\n",
    "    # This target variable is essentially what we are aiming to predict, if we know the next day's closing price compared to the current price, we can evaluate if the stock is worth purchasing\n",
    "features = stock_data[['Open', 'High', 'Low', 'Close', 'Volume']]\n",
    "    # We can add more features that we require if necessary\n",
    "# Drop last row since it will have NaN for the shifted target\n",
    "features = features[:-1]\n",
    "target = stock_data['Next_Close'].dropna()"
   ]
  },
  {
   "cell_type": "code",
   "execution_count": 33,
   "id": "8cf81d65-4426-4e94-a02b-df473c38210a",
   "metadata": {},
   "outputs": [],
   "source": [
    "# 3.1: Additional data that could be used in the furture:\n",
    "#Momentum = Open price – Close price\n",
    "#Average price = (Low price + High price) / 2\n",
    "#Range = High price – Low price\n",
    "#OHLC price = (Open price + High price + Low price + Close price)/4"
   ]
  },
  {
   "cell_type": "code",
   "execution_count": 34,
   "id": "cea6aad1-dddf-425e-80fe-a1ce2c2a667a",
   "metadata": {},
   "outputs": [],
   "source": [
    "# 4: Normalize the data with min-max scaling\n",
    "# Instantiate the scaler: \n",
    "scaler = MinMaxScaler(feature_range=(0, 1))\n",
    "    # The feature range specifies range to scale data\n",
    "# Fit and transform the data: \n",
    "scaled_data = scaler.fit_transform(features)\n",
    "    # Computes the min and max of each feature and scales the data\n",
    "# For each feature, min-max scaling scales the values so that the min value is represented as 0, the max as 1, and everything else in between\n",
    "# Later, we may want to transform scaled values back to the original values by doing:\n",
    "#original_values = scaler.inverse_transform(scaled_data)"
   ]
  },
  {
   "cell_type": "code",
   "execution_count": 35,
   "id": "b4eb5095-ba6a-402b-8de9-84f2012eacc3",
   "metadata": {},
   "outputs": [],
   "source": [
    "# 5: Create sequences for LSTM\n",
    "# Transform time series data into sequences that can be used as input into LSTM model\n",
    "\n",
    "def create_sequences(data, target, sequence_length):\n",
    "     sequences = []\n",
    "     targets = []\n",
    "     for i in range(len(data) - sequence_length):\n",
    "         seq = data[i:i+sequence_length]\n",
    "         target_value = target.iloc[i+sequence_length]\n",
    "         sequences.append(seq)\n",
    "         targets.append(target_value)\n",
    "     return np.array(sequences), np.array(targets)\n",
    "\n",
    "    # data are the features used to predict the target\n",
    "    # target is the target variable (ex. Next day's closing price)\n",
    "    # sequence_length is the number of time steps the model will look back to make a prediction\n",
    "    # initialize the sequences list and targets list to store the sequences and their respective target values\n",
    "    # the for loop loops over the length of the data minus the sequence length\n",
    "        # ensures we have enough data to create sequences of the specified length\n",
    "    # create sequences by extracting a subsequence of length sequence_length starting from index i\n",
    "        #  represents the historical data that the model will use to make a prediction\n",
    "    # extract the target value corresponding to the end of the sequence\n",
    "    # append the sequence to the sequence list and the target value to the targets list\n",
    "    # the function finally returns the sequences and targets as numpy arrays\n",
    "sequence_length = 10\n",
    "    # adjust length as needed\n",
    "X_seq, y_seq = create_sequences(scaled_data, target, sequence_length)\n",
    "    # X_seq will contain sequences of length 10 from the scaled_data features we defined earlier\n",
    "    # y_seq contains the corresponding target values\n",
    "\n",
    "# The main purpose of this step is to create sequences that we can use to train the model later"
   ]
  },
  {
   "cell_type": "code",
   "execution_count": 36,
   "id": "92dff127-f8ac-442d-b775-dab06f7fb9a7",
   "metadata": {},
   "outputs": [],
   "source": [
    "# 6: Split the data into training sets and testing sets\n",
    "X_train, X_test, y_train, y_test = train_test_split(X_seq, y_seq, test_size=0.2, random_state=42)\n",
    "    # X_train contains the features (sequences) that will be used for training the model\n",
    "    # X_test contains the features (sequences) that will be used for testing the model\n",
    "    # y_train contains the corresponding target values for the training set\n",
    "    # y_test contains the corresponding target values for the testing set\n",
    "# We will use the test data to analyze the effectiveness of our model after it is trained"
   ]
  },
  {
   "cell_type": "code",
   "execution_count": 37,
   "id": "1332a821-8662-4dc3-9973-237caf97a676",
   "metadata": {},
   "outputs": [],
   "source": [
    "# 7: Build the model\n",
    "model = Sequential()\n",
    "    # In Keras, the sequential model is a linear stack of layers, where you can add one layer at a time\n",
    "model.add(LSTM(units=50, return_sequences=True, input_shape=(X_train.shape[1], X_train.shape[2])))\n",
    "    # Adds the first LSTM layer\n",
    "    # units is the number of neurons in the layer\n",
    "    # return_sequences set to true ensures that the next layer in the stack receives the full sequence\n",
    "    # input_shape defines shape of the first layer\n",
    "model.add(LSTM(units=50))\n",
    "    # Adds the second LSTM layer\n",
    "    # last layer in the stack does not require return_sequences set to true as there is no next layer\n",
    "model.add(Dense(units=5))\n",
    "    # Adds a dense layer for output\n",
    "    # One output unit (neuron)\n",
    "model.compile(optimizer='adam', loss='mean_squared_error')\n",
    "    # Adds a dense layer with one output unit\n",
    "    # A fully connected layer to produce the model's output\n",
    "    # 'adam' is a popular optimization algorithm that adapts the learning rates for each parameter\n",
    "    # mean_squared_error is commonly used for regression tasks, where the goal is to minimize the difference between predicted and true values"
   ]
  },
  {
   "cell_type": "code",
   "execution_count": 38,
   "id": "9b3ead3c-496f-4f17-8cb0-37241914426e",
   "metadata": {},
   "outputs": [],
   "source": [
    "#7.1: Possible GRU + LSTM model\n",
    "# model = Sequential()\n",
    "# model.add(GRU(units=20, return_sequences=True, input_shape=(X_train.shape[1], X_train.shape[2])))\n",
    "# model.add(LSTM(units=256, return_sequences=True))\n",
    "# model.add(Dense(units=64))\n",
    "# model.add(Dense(units=1))\n",
    "# model.compile(optimizer='adam', loss='mean_squared_error')\n",
    "# This is based on this paper (https://doi.org/10.1016/j.socl.2020.100009) which used this method for FOREX daytrading\n",
    "# It resulted in a more accurate results than pure LSTM as well as being more resource efficient as LSTM is typically resource hungry\n"
   ]
  },
  {
   "cell_type": "code",
   "execution_count": 39,
   "id": "856b87b2-010d-423e-99c3-24e28eb6e1af",
   "metadata": {},
   "outputs": [
    {
     "name": "stdout",
     "output_type": "stream",
     "text": [
      "Epoch 1/30\n",
      "312/312 [==============================] - 8s 10ms/step - loss: 53329.4961\n",
      "Epoch 2/30\n",
      "312/312 [==============================] - 3s 10ms/step - loss: 45951.8281\n",
      "Epoch 3/30\n",
      "312/312 [==============================] - 3s 10ms/step - loss: 39669.9414\n",
      "Epoch 4/30\n",
      "312/312 [==============================] - 3s 10ms/step - loss: 34066.3125\n",
      "Epoch 5/30\n",
      "312/312 [==============================] - 3s 10ms/step - loss: 29057.6973\n",
      "Epoch 6/30\n",
      "312/312 [==============================] - 3s 10ms/step - loss: 24589.1855\n",
      "Epoch 7/30\n",
      "312/312 [==============================] - 3s 10ms/step - loss: 20617.4492\n",
      "Epoch 8/30\n",
      "312/312 [==============================] - 3s 10ms/step - loss: 17105.4219\n",
      "Epoch 9/30\n",
      "312/312 [==============================] - 3s 10ms/step - loss: 14020.8818\n",
      "Epoch 10/30\n",
      "312/312 [==============================] - 3s 10ms/step - loss: 11334.3721\n",
      "Epoch 11/30\n",
      "312/312 [==============================] - 3s 10ms/step - loss: 9018.3369\n",
      "Epoch 12/30\n",
      "312/312 [==============================] - 3s 10ms/step - loss: 7046.4097\n",
      "Epoch 13/30\n",
      "312/312 [==============================] - 3s 10ms/step - loss: 5392.5830\n",
      "Epoch 14/30\n",
      "312/312 [==============================] - 3s 10ms/step - loss: 4030.3494\n",
      "Epoch 15/30\n",
      "312/312 [==============================] - 3s 10ms/step - loss: 2932.6941\n",
      "Epoch 16/30\n",
      "312/312 [==============================] - 3s 10ms/step - loss: 2072.0735\n",
      "Epoch 17/30\n",
      "312/312 [==============================] - 3s 10ms/step - loss: 1419.2344\n",
      "Epoch 18/30\n",
      "312/312 [==============================] - 3s 10ms/step - loss: 943.6057\n",
      "Epoch 19/30\n",
      "312/312 [==============================] - 3s 10ms/step - loss: 613.8688\n",
      "Epoch 20/30\n",
      "312/312 [==============================] - 3s 10ms/step - loss: 398.9309\n",
      "Epoch 21/30\n",
      "312/312 [==============================] - 3s 10ms/step - loss: 268.9164\n",
      "Epoch 22/30\n",
      "312/312 [==============================] - 3s 10ms/step - loss: 197.3569\n",
      "Epoch 23/30\n",
      "312/312 [==============================] - 3s 10ms/step - loss: 161.9615\n",
      "Epoch 24/30\n",
      "312/312 [==============================] - 3s 10ms/step - loss: 146.6133\n",
      "Epoch 25/30\n",
      "312/312 [==============================] - 3s 10ms/step - loss: 140.9585\n",
      "Epoch 26/30\n",
      "312/312 [==============================] - 3s 10ms/step - loss: 124.5228\n",
      "Epoch 27/30\n",
      "312/312 [==============================] - 3s 10ms/step - loss: 52.7024\n",
      "Epoch 28/30\n",
      "312/312 [==============================] - 3s 10ms/step - loss: 30.2775\n",
      "Epoch 29/30\n",
      "312/312 [==============================] - 3s 10ms/step - loss: 17.9548\n",
      "Epoch 30/30\n",
      "312/312 [==============================] - 3s 10ms/step - loss: 10.7526\n"
     ]
    },
    {
     "data": {
      "text/plain": [
       "<keras.src.callbacks.History at 0x75d8b63d3d30>"
      ]
     },
     "execution_count": 39,
     "metadata": {},
     "output_type": "execute_result"
    }
   ],
   "source": [
    "# 8: Train the model with our data\n",
    "model.fit(X_train, y_train, epochs=30, batch_size=32)\n",
    "    # X_train are the input features, y_train are the target values for the training set\n",
    "    # epochs is the number of times the entire training dataset is passed forward and backward through the neural network\n",
    "    # the training dataset is divided into batches, and the model weights are updated after processing each batch"
   ]
  },
  {
   "cell_type": "code",
   "execution_count": 40,
   "id": "2532f8a7-2eb1-4473-b75f-738b146a47a0",
   "metadata": {},
   "outputs": [
    {
     "name": "stdout",
     "output_type": "stream",
     "text": [
      "78/78 [==============================] - 1s 4ms/step - loss: 7.9310\n"
     ]
    }
   ],
   "source": [
    "# 9: Evaluate the model with our test set\n",
    "loss = model.evaluate(X_test, y_test)\n",
    "    # use the test data \n",
    "    # loss is essentially the mean squared error\n",
    "        # the average squared difference between the predicted values and the true values"
   ]
  },
  {
   "cell_type": "code",
   "execution_count": 41,
   "id": "a0a733cd-0090-4e15-ad7c-4316db4853dd",
   "metadata": {},
   "outputs": [
    {
     "name": "stdout",
     "output_type": "stream",
     "text": [
      "78/78 [==============================] - 1s 4ms/step\n"
     ]
    }
   ],
   "source": [
    "# 10: Make predictions on the test set\n",
    "predictions = model.predict(X_test)\n",
    "    # Each element in the predictions array corresponds to the model's prediction for a specific data point in the test set\n",
    "    # Basically, predictions includes the target values of each sequence\n",
    "predicted_prices = scaler.inverse_transform(np.reshape(predictions, (predictions.shape[0], 5)))\n",
    "    # Invereses the predictions to the original scale\n",
    "actual_prices = np.reshape(y_test, (y_test.shape[0], 1))\n",
    "    # Inverse transofmr the actual closing prices to original scale\n",
    "\n",
    "# Compare predicted_prices to actual_prices to see how accurate the model is"
   ]
  },
  {
   "cell_type": "code",
   "execution_count": 43,
   "id": "b83a9957-c1da-4244-9640-90b5791f4c33",
   "metadata": {},
   "outputs": [
    {
     "name": "stdout",
     "output_type": "stream",
     "text": [
      "[[1.1403414e+04 1.4233344e+04 1.3774134e+04 1.1414812e+04 1.5249975e+09]\n",
      " [1.2352225e+04 1.5387707e+04 1.4877798e+04 1.2331479e+04 1.6544398e+09]\n",
      " [1.2352272e+04 1.5387762e+04 1.4877850e+04 1.2331522e+04 1.6544461e+09]\n",
      " ...\n",
      " [1.1550896e+04 1.4419772e+04 1.3956013e+04 1.1564524e+04 1.5451194e+09]\n",
      " [1.2332015e+04 1.5364043e+04 1.4855802e+04 1.2313295e+04 1.6516660e+09]\n",
      " [1.1663751e+04 1.4561375e+04 1.4094269e+04 1.1679502e+04 1.5604453e+09]]\n"
     ]
    },
    {
     "data": {
      "text/html": [
       "<div>\n",
       "<style scoped>\n",
       "    .dataframe tbody tr th:only-of-type {\n",
       "        vertical-align: middle;\n",
       "    }\n",
       "\n",
       "    .dataframe tbody tr th {\n",
       "        vertical-align: top;\n",
       "    }\n",
       "\n",
       "    .dataframe thead th {\n",
       "        text-align: right;\n",
       "    }\n",
       "</style>\n",
       "<table border=\"1\" class=\"dataframe\">\n",
       "  <thead>\n",
       "    <tr style=\"text-align: right;\">\n",
       "      <th></th>\n",
       "      <th>Actual</th>\n",
       "      <th>Predicted</th>\n",
       "    </tr>\n",
       "  </thead>\n",
       "  <tbody>\n",
       "    <tr>\n",
       "      <th>0</th>\n",
       "      <td>234.870</td>\n",
       "      <td>11414.811523</td>\n",
       "    </tr>\n",
       "    <tr>\n",
       "      <th>1</th>\n",
       "      <td>256.850</td>\n",
       "      <td>12331.478516</td>\n",
       "    </tr>\n",
       "    <tr>\n",
       "      <th>2</th>\n",
       "      <td>256.623</td>\n",
       "      <td>12331.522461</td>\n",
       "    </tr>\n",
       "    <tr>\n",
       "      <th>3</th>\n",
       "      <td>248.870</td>\n",
       "      <td>12082.197266</td>\n",
       "    </tr>\n",
       "    <tr>\n",
       "      <th>4</th>\n",
       "      <td>245.890</td>\n",
       "      <td>11964.000977</td>\n",
       "    </tr>\n",
       "  </tbody>\n",
       "</table>\n",
       "</div>"
      ],
      "text/plain": [
       "    Actual     Predicted\n",
       "0  234.870  11414.811523\n",
       "1  256.850  12331.478516\n",
       "2  256.623  12331.522461\n",
       "3  248.870  12082.197266\n",
       "4  245.890  11964.000977"
      ]
     },
     "execution_count": 43,
     "metadata": {},
     "output_type": "execute_result"
    }
   ],
   "source": [
    "# 11: Dataframe for analysis\n",
    "print(predicted_prices)\n",
    "result_df = pd.DataFrame({\n",
    "    'Actual': actual_prices.flatten(),\n",
    "    'Predicted': predicted_prices[:, 3]\n",
    "})\n",
    "\n",
    "# Display the results\n",
    "result_df.head()"
   ]
  }
 ],
 "metadata": {
  "kernelspec": {
   "display_name": "Python 3 (ipykernel)",
   "language": "python",
   "name": "python3"
  },
  "language_info": {
   "codemirror_mode": {
    "name": "ipython",
    "version": 3
   },
   "file_extension": ".py",
   "mimetype": "text/x-python",
   "name": "python",
   "nbconvert_exporter": "python",
   "pygments_lexer": "ipython3",
   "version": "3.10.12"
  }
 },
 "nbformat": 4,
 "nbformat_minor": 5
}
