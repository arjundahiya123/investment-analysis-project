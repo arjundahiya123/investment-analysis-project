{
 "cells": [
  {
   "cell_type": "code",
   "execution_count": 159,
   "id": "12623c0f",
   "metadata": {},
   "outputs": [],
   "source": [
    "# 1. Import the following libraries: \n",
    "# pip install pandas numpy matplotlib statsmodels scikit-learn\n",
    "\n",
    "# pandas (for data manipulation)\n",
    "import pandas as pd\n",
    "    \n",
    "# numpy (for numerical operations)\n",
    "import numpy as np\n",
    "    \n",
    "# matplotlib (for data visualization)\n",
    "import matplotlib.pyplot as plt \n",
    "    \n",
    "# statsmodels (to use ARIMA)\n",
    "from statsmodels.tsa.arima.model import ARIMA\n",
    "from statsmodels.tsa.stattools import adfuller, acf, pacf\n",
    "from statsmodels.graphics.tsaplots import plot_acf, plot_pacf\n",
    "\n",
    "# scikit-learn (for error metrics)\n",
    "from sklearn.metrics import mean_squared_error"
   ]
  },
  {
   "cell_type": "code",
   "execution_count": 160,
   "id": "fa819972",
   "metadata": {
    "scrolled": true
   },
   "outputs": [],
   "source": [
    "# 2. Importing stock data using AlphaVantage API\n",
    "\n",
    "# !pip install alpha_vantage\n",
    "\n",
    "from alpha_vantage.timeseries import TimeSeries\n",
    "\n",
    "#Free API key\n",
    "key = 'UO4WWNLT3XIKJ6EI'\n",
    "\n",
    "# Create TimeSeries object\n",
    "ts = TimeSeries(key, output_format='pandas') #requires input of key and output format (default is json)\n",
    "\n",
    "# Sample API Call for Tesla\n",
    "#objects come with a data and a meta component (will likely only need data component), require a stock symbol + interval + output size\n",
    "predata, meta = ts.get_daily('TSLA', outputsize='full')\n",
    "data = predata[:1000]\n"
   ]
  },
  {
   "cell_type": "code",
   "execution_count": 161,
   "id": "1bfaa12d",
   "metadata": {},
   "outputs": [
    {
     "name": "stdout",
     "output_type": "stream",
     "text": [
      "            1. open   2. high    3. low  4. close    5. volume\n",
      "date                                                          \n",
      "2024-01-12   220.08  225.3400  217.1501    218.89  123043812.0\n",
      "2024-01-11   230.57  230.9300  225.3700    227.22  105873612.0\n",
      "2024-01-10   235.10  235.5000  231.2900    233.94   91628502.0\n",
      "2024-01-09   238.11  238.9646  232.0400    234.96   96705664.0\n",
      "2024-01-08   236.14  241.2500  235.3000    240.45   85166580.0\n",
      "...             ...       ...       ...       ...          ...\n",
      "2020-01-30   632.42  650.8800  618.0000    640.81   29005676.0\n",
      "2020-01-29   575.69  589.8000  567.4300    580.99   18216672.0\n",
      "2020-01-28   568.49  576.8100  558.0800    566.90   11788493.0\n",
      "2020-01-27   541.99  564.4400  539.2800    558.02   13608068.0\n",
      "2020-01-24   570.63  573.8600  554.2600    564.82   14353600.0\n",
      "\n",
      "[1000 rows x 5 columns]\n",
      "1000\n"
     ]
    }
   ],
   "source": [
    "print(data)\n",
    "print(len(data))"
   ]
  },
  {
   "cell_type": "code",
   "execution_count": 162,
   "id": "24505498",
   "metadata": {},
   "outputs": [
    {
     "name": "stdout",
     "output_type": "stream",
     "text": [
      "date\n",
      "2024-01-12    218.89\n",
      "2024-01-11    227.22\n",
      "2024-01-10    233.94\n",
      "2024-01-09    234.96\n",
      "2024-01-08    240.45\n",
      "               ...  \n",
      "2020-01-30    640.81\n",
      "2020-01-29    580.99\n",
      "2020-01-28    566.90\n",
      "2020-01-27    558.02\n",
      "2020-01-24    564.82\n",
      "Name: 4. close, Length: 1000, dtype: float64\n"
     ]
    }
   ],
   "source": [
    "# 3. Modify the dataset\n",
    "\n",
    "# Keep relevant columns - closing price and date\n",
    "closing_data = data['4. close']\n",
    "print(closing_data)"
   ]
  },
  {
   "cell_type": "code",
   "execution_count": 163,
   "id": "b31c7cfe",
   "metadata": {},
   "outputs": [
    {
     "name": "stdout",
     "output_type": "stream",
     "text": [
      "            4. close\n",
      "date                \n",
      "2024-01-12    218.89\n",
      "2024-01-11    227.22\n",
      "2024-01-10    233.94\n",
      "2024-01-09    234.96\n",
      "2024-01-08    240.45\n",
      "...              ...\n",
      "2020-01-30    640.81\n",
      "2020-01-29    580.99\n",
      "2020-01-28    566.90\n",
      "2020-01-27    558.02\n",
      "2020-01-24    564.82\n",
      "\n",
      "[1000 rows x 1 columns]\n",
      "            4. close\n",
      "date                \n",
      "2020-01-24    564.82\n",
      "2020-01-27    558.02\n",
      "2020-01-28    566.90\n",
      "2020-01-29    580.99\n",
      "2020-01-30    640.81\n",
      "...              ...\n",
      "2024-01-08    240.45\n",
      "2024-01-09    234.96\n",
      "2024-01-10    233.94\n",
      "2024-01-11    227.22\n",
      "2024-01-12    218.89\n",
      "\n",
      "[1000 rows x 1 columns]\n",
      "Training data:              4. close\n",
      "date                \n",
      "2020-01-24    564.82\n",
      "2020-01-27    558.02\n",
      "2020-01-28    566.90\n",
      "2020-01-29    580.99\n",
      "2020-01-30    640.81\n",
      "...              ...\n",
      "2023-08-15    232.96\n",
      "2023-08-16    225.60\n",
      "2023-08-17    219.22\n",
      "2023-08-18    215.49\n",
      "2023-08-21    231.28\n",
      "\n",
      "[900 rows x 1 columns]\n",
      "Testing data:              4. close\n",
      "date                \n",
      "2023-08-22    233.19\n",
      "2023-08-23    236.86\n",
      "2023-08-24    230.04\n",
      "2023-08-25    238.59\n",
      "2023-08-28    238.82\n",
      "...              ...\n",
      "2024-01-08    240.45\n",
      "2024-01-09    234.96\n",
      "2024-01-10    233.94\n",
      "2024-01-11    227.22\n",
      "2024-01-12    218.89\n",
      "\n",
      "[100 rows x 1 columns]\n"
     ]
    }
   ],
   "source": [
    "# 4. Separate the data into training and testing datasets\n",
    "\n",
    "# Create a DataFrame using the closing price data\n",
    "df = pd.DataFrame(closing_data)\n",
    "print(df)\n",
    "\n",
    "# Split data into 70-30 training-testing data sets\n",
    "# Sort df by ascending order (most recent date comes last)\n",
    "df.sort_index(ascending=True, inplace=True)\n",
    "print(df)\n",
    "\n",
    "\n",
    "# # Testing daily dataset instead of by minute\n",
    "# hourly_data = df.resample('D').mean()\n",
    "# df2 = pd.DataFrame(hourly_data)\n",
    "\n",
    "\n",
    "\n",
    "# train_size represents the first 90% of all rows; use this index to slice the data\n",
    "train_size = int(len(df) * 0.90)\n",
    "\n",
    "# Training data will include all rows starting from the first row up to the row indicated by 'train_size'\n",
    "train_data = df.iloc[:train_size]\n",
    "# The rest 10% will be included in testing data\n",
    "test_data = df.iloc[train_size:]\n",
    "\n",
    "print(\"Training data: \", train_data)\n",
    "print(\"Testing data: \", test_data)"
   ]
  },
  {
   "cell_type": "code",
   "execution_count": 164,
   "id": "1e2c8836",
   "metadata": {},
   "outputs": [
    {
     "data": {
      "text/plain": [
       "<AxesSubplot:xlabel='date'>"
      ]
     },
     "execution_count": 164,
     "metadata": {},
     "output_type": "execute_result"
    },
    {
     "data": {
      "image/png": "[encoded data removed]",
      "text/plain": [
       "<Figure size 640x480 with 1 Axes>"
      ]
     },
     "metadata": {},
     "output_type": "display_data"
    }
   ],
   "source": [
    "# 5.1 Visualize the data\n",
    "\n",
    "# Plot the data for visualization\n",
    "df.plot()"
   ]
  },
  {
   "cell_type": "code",
   "execution_count": 165,
   "id": "9c8e7a21",
   "metadata": {},
   "outputs": [
    {
     "name": "stdout",
     "output_type": "stream",
     "text": [
      "p-value:  0.06724542405860022\n",
      "p-value:  0.0\n",
      "\n",
      "d value:  1\n"
     ]
    }
   ],
   "source": [
    "# 5.2 Conduct the ADF test and determine the value for d \n",
    "\n",
    "# Conduct the ADF test, which determines if the data is stationary or not\n",
    "result = adfuller(df)\n",
    "\n",
    "# Keeps track of the number of times differencing was needed \n",
    "d = 0\n",
    "\n",
    "# If the data is not stationary, differencing is needed to convert it into stationary data\n",
    "# The p-value has to be less than 0.05 for the dataset to be considered stationary \n",
    "while True:\n",
    "    print('p-value: ', result[1])\n",
    "    if result[1] < 0.05:\n",
    "        break\n",
    "    else:\n",
    "        result = adfuller(df.diff().dropna())\n",
    "        d += 1\n",
    "\n",
    "print('\\nd value: ', d)"
   ]
  },
  {
   "cell_type": "code",
   "execution_count": 166,
   "id": "38d2bd85",
   "metadata": {},
   "outputs": [],
   "source": [
    "# 6. Optimize the parameters (p, d, q) and create the ARIMA model\n",
    "\n",
    "    # Determine (p,d,q) based on the data's characteristics\n",
    "    # ACF plot is used to determine p (autoregressive AR)\n",
    "    # PACF plot is used to determine q (moving average MA)\n",
    "    \n",
    "    # Create the ARIMA model object and fit it to the data\n",
    "    \n",
    "    # Examples of useful python code:\n",
    "    # p, d, q = 1, 1, 1\n",
    "    # model = ARIMA(data, order(p,d,q))\n",
    "    # model_fit = model.fit()"
   ]
  },
  {
   "cell_type": "code",
   "execution_count": 167,
   "id": "fe927f1d",
   "metadata": {},
   "outputs": [
    {
     "name": "stdout",
     "output_type": "stream",
     "text": [
      "            4. close\n",
      "date                \n",
      "2020-01-24    564.82\n",
      "2020-01-27    558.02\n",
      "2020-01-28    566.90\n",
      "2020-01-29    580.99\n",
      "2020-01-30    640.81\n",
      "...              ...\n",
      "2024-01-08    240.45\n",
      "2024-01-09    234.96\n",
      "2024-01-10    233.94\n",
      "2024-01-11    227.22\n",
      "2024-01-12    218.89\n",
      "\n",
      "[1000 rows x 1 columns]\n",
      "1000\n"
     ]
    },
    {
     "data": {
      "text/plain": [
       "<Figure size 1500x600 with 0 Axes>"
      ]
     },
     "metadata": {},
     "output_type": "display_data"
    },
    {
     "data": {
      "image/png": "[encoded data removed]",
      "text/plain": [
       "<Figure size 640x480 with 1 Axes>"
      ]
     },
     "metadata": {},
     "output_type": "display_data"
    },
    {
     "data": {
      "image/png": "[encoded data removed]",
      "text/plain": [
       "<Figure size 640x480 with 1 Axes>"
      ]
     },
     "metadata": {},
     "output_type": "display_data"
    }
   ],
   "source": [
    "# # Preprocess the data to show daily instead of by minute\n",
    "# hourly_data = df.resample('D').mean()\n",
    "# df = pd.DataFrame(hourly_data)\n",
    "\n",
    "\n",
    "print(df.dropna())\n",
    "print(len(df.dropna()))\n",
    "\n",
    "\n",
    "# ACF plot to determine q value (visu)\n",
    "plt.figure(figsize=(15, 6))\n",
    "plot_acf(df.dropna())\n",
    "plt.show()\n",
    "\n",
    "# PACF plot to determine p value \n",
    "plot_pacf(df.dropna(), lags=5)\n",
    "plt.show()\n",
    "\n"
   ]
  },
  {
   "cell_type": "code",
   "execution_count": 168,
   "id": "abf394ff",
   "metadata": {},
   "outputs": [
    {
     "name": "stdout",
     "output_type": "stream",
     "text": [
      "p value:  2\n",
      "q value:  3\n"
     ]
    }
   ],
   "source": [
    "# 6.1 Determine the best p and q values\n",
    "# The best p,q,d values will produce the lowest aic value \n",
    "\n",
    "import warnings\n",
    "warnings.filterwarnings(\"ignore\")\n",
    "\n",
    "# Defines ranges for p and q\n",
    "p = q = range(0, 4)\n",
    "\n",
    "# List to store all pdq combinations\n",
    "pdq = []\n",
    "# Appends each combination of p,d,q to the list\n",
    "for p_value in p:\n",
    "    for q_value in q:\n",
    "        pdq.append((p_value, d, q_value))\n",
    "\n",
    "# Initialize best aic to start at infinity\n",
    "best_aic = float('inf')  \n",
    "# Initialize best pqd combination \n",
    "best_pdq = None\n",
    "\n",
    "# Test each combination \n",
    "for combination in pdq:\n",
    "    # Fit the arima model \n",
    "    model = ARIMA(df, order=(combination))\n",
    "    model_fit = model.fit()\n",
    "    \n",
    "    # If the aic value is lower than the current best aic, it will be replaced\n",
    "    if model_fit.aic < best_aic:\n",
    "        best_aic = model_fit.aic\n",
    "        best_pdq = combination\n",
    "\n",
    "# Extract the p and q values\n",
    "p = best_pdq[0]\n",
    "q = best_pdq[2]\n",
    "\n",
    "print('p value: ', p)\n",
    "print('q value: ', q)"
   ]
  },
  {
   "cell_type": "code",
   "execution_count": 169,
   "id": "943f6e15",
   "metadata": {},
   "outputs": [
    {
     "name": "stdout",
     "output_type": "stream",
     "text": [
      "                               SARIMAX Results                                \n",
      "==============================================================================\n",
      "Dep. Variable:               4. close   No. Observations:                 1000\n",
      "Model:                 ARIMA(2, 1, 3)   Log Likelihood               -5586.236\n",
      "Date:                Tue, 16 Jan 2024   AIC                          11184.471\n",
      "Time:                        14:51:07   BIC                          11213.912\n",
      "Sample:                             0   HQIC                         11195.661\n",
      "                               - 1000                                         \n",
      "Covariance Type:                  opg                                         \n",
      "==============================================================================\n",
      "                 coef    std err          z      P>|z|      [0.025      0.975]\n",
      "------------------------------------------------------------------------------\n",
      "ar.L1         -0.6029      0.053    -11.332      0.000      -0.707      -0.499\n",
      "ar.L2         -0.9506      0.031    -30.235      0.000      -1.012      -0.889\n",
      "ma.L1          0.6283      0.103      6.085      0.000       0.426       0.831\n",
      "ma.L2          0.9820      0.067     14.553      0.000       0.850       1.114\n",
      "ma.L3          0.0036      0.088      0.040      0.968      -0.170       0.177\n",
      "sigma2      4248.9447     60.622     70.090      0.000    4130.128    4367.761\n",
      "===================================================================================\n",
      "Ljung-Box (L1) (Q):                   0.00   Jarque-Bera (JB):           9161842.07\n",
      "Prob(Q):                              1.00   Prob(JB):                         0.00\n",
      "Heteroskedasticity (H):               0.01   Skew:                           -18.41\n",
      "Prob(H) (two-sided):                  0.00   Kurtosis:                       470.71\n",
      "===================================================================================\n",
      "\n",
      "Warnings:\n",
      "[1] Covariance matrix calculated using the outer product of gradients (complex-step).\n"
     ]
    }
   ],
   "source": [
    "# 6.2 Create the ARIMA model with the p, d, q values determined\n",
    "model = ARIMA(df, order=(p,d,q))\n",
    "model_fit = model.fit()\n",
    "print(model_fit.summary())"
   ]
  },
  {
   "cell_type": "code",
   "execution_count": 170,
   "id": "4a8ebe41",
   "metadata": {},
   "outputs": [
    {
     "name": "stdout",
     "output_type": "stream",
     "text": [
      "                               SARIMAX Results                                \n",
      "==============================================================================\n",
      "Dep. Variable:               4. close   No. Observations:                  900\n",
      "Model:                 ARIMA(2, 1, 3)   Log Likelihood               -5073.941\n",
      "Date:                Tue, 16 Jan 2024   AIC                          10159.882\n",
      "Time:                        14:51:10   BIC                          10188.690\n",
      "Sample:                             0   HQIC                         10170.888\n",
      "                                - 900                                         \n",
      "Covariance Type:                  opg                                         \n",
      "==============================================================================\n",
      "                 coef    std err          z      P>|z|      [0.025      0.975]\n",
      "------------------------------------------------------------------------------\n",
      "ar.L1         -0.6039      0.056    -10.773      0.000      -0.714      -0.494\n",
      "ar.L2         -0.9535      0.032    -29.711      0.000      -1.016      -0.891\n",
      "ma.L1          0.6295      0.113      5.581      0.000       0.408       0.851\n",
      "ma.L2          0.9848      0.073     13.428      0.000       0.841       1.129\n",
      "ma.L3          0.0045      0.098      0.046      0.963      -0.187       0.196\n",
      "sigma2      4710.5206     75.246     62.601      0.000    4563.040    4858.001\n",
      "===================================================================================\n",
      "Ljung-Box (L1) (Q):                   0.00   Jarque-Bera (JB):           6710343.73\n",
      "Prob(Q):                              1.00   Prob(JB):                         0.00\n",
      "Heteroskedasticity (H):               0.12   Skew:                           -17.50\n",
      "Prob(H) (two-sided):                  0.00   Kurtosis:                       424.80\n",
      "===================================================================================\n",
      "\n",
      "Warnings:\n",
      "[1] Covariance matrix calculated using the outer product of gradients (complex-step).\n"
     ]
    }
   ],
   "source": [
    "# 6.3 Train the ARIMA model with the training data and the p, d, q values determined\n",
    "model = ARIMA(train_data['4. close'], order=(p,d,q))\n",
    "model_fit = model.fit()\n",
    "print(model_fit.summary())"
   ]
  },
  {
   "cell_type": "code",
   "execution_count": 171,
   "id": "38f5aa97",
   "metadata": {},
   "outputs": [
    {
     "name": "stdout",
     "output_type": "stream",
     "text": [
      "steps:  7\n",
      "Predicted value:\n",
      " 900    233.173390\n",
      "901    234.944269\n",
      "902    232.151990\n",
      "903    232.149887\n",
      "904    234.813529\n",
      "905    233.206837\n",
      "906    231.637474\n",
      "Name: predicted_mean, dtype: float64\n",
      "\n",
      "Actual value:\n",
      "             4. close\n",
      "date                \n",
      "2023-08-22    233.19\n",
      "2023-08-23    236.86\n",
      "2023-08-24    230.04\n",
      "2023-08-25    238.59\n",
      "2023-08-28    238.82\n",
      "...              ...\n",
      "2024-01-08    240.45\n",
      "2024-01-09    234.96\n",
      "2024-01-10    233.94\n",
      "2024-01-11    227.22\n",
      "2024-01-12    218.89\n",
      "\n",
      "[100 rows x 1 columns]\n"
     ]
    }
   ],
   "source": [
    "# 7. Make out-of-sample predictions (forecasting)\n",
    "\n",
    "# fit the model to the DataFrame which includes all of the given data\n",
    "model = ARIMA(train_data, order=(p,d,q))\n",
    "model_fit = model.fit()\n",
    "\n",
    "# make future predictions for the next week\n",
    "forecast_steps = 7\n",
    "print(\"steps: \", forecast_steps)\n",
    "# use steps parameter for # of future steps to forecast\n",
    "forecast = model_fit.forecast(steps=forecast_steps)\n",
    "print(\"Predicted value:\\n\", forecast)\n",
    "\n",
    "print(\"\\nActual value:\\n\", test_data.dropna())"
   ]
  },
  {
   "cell_type": "code",
   "execution_count": null,
   "id": "c8d45a5e",
   "metadata": {},
   "outputs": [],
   "source": []
  }
 ],
 "metadata": {
  "kernelspec": {
   "display_name": "Python 3 (ipykernel)",
   "language": "python",
   "name": "python3"
  },
  "language_info": {
   "codemirror_mode": {
    "name": "ipython",
    "version": 3
   },
   "file_extension": ".py",
   "mimetype": "text/x-python",
   "name": "python",
   "nbconvert_exporter": "python",
   "pygments_lexer": "ipython3",
   "version": "3.9.13"
  }
 },
 "nbformat": 4,
 "nbformat_minor": 5
}
