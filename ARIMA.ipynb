{
 "cells": [
  {
   "cell_type": "code",
   "execution_count": 1,
   "id": "12623c0f",
   "metadata": {},
   "outputs": [],
   "source": [
    "# 1. Import the following libraries: \n",
    "# pip install pandas numpy matplotlib statsmodels scikit-learn\n",
    "\n",
    "# pandas (for data manipulation)\n",
    "import pandas as pd\n",
    "    \n",
    "# numpy (for numerical operations)\n",
    "import numpy as np\n",
    "    \n",
    "# matplotlib (for data visualization)\n",
    "import matplotlib.pyplot as plt \n",
    "    \n",
    "# statsmodels (to use ARIMA)\n",
    "from statsmodels.tsa.arima.model import ARIMA\n",
    "from statsmodels.tsa.stattools import adfuller, acf, pacf\n",
    "from statsmodels.graphics.tsaplots import plot_acf, plot_pacf\n",
    "\n",
    "# scikit-learn (for error metrics)\n",
    "from sklearn.metrics import mean_squared_error"
   ]
  },
  {
   "cell_type": "code",
   "execution_count": 2,
   "id": "fa819972",
   "metadata": {
    "scrolled": true
   },
   "outputs": [],
   "source": [
    "# 2. Importing stock data using AlphaVantage API\n",
    "\n",
    "# !pip install alpha_vantage\n",
    "\n",
    "from alpha_vantage.timeseries import TimeSeries\n",
    "\n",
    "#Free API key\n",
    "key = 'UO4WWNLT3XIKJ6EI'\n",
    "\n",
    "# Create TimeSeries object\n",
    "ts = TimeSeries(key, output_format='pandas') #requires input of key and output format (default is json)\n",
    "\n",
    "# Sample API Call for Tesla\n",
    "#objects come with a data and a meta component (will likely only need data component), require a stock symbol + interval + output size\n",
    "predata, meta = ts.get_daily('TSLA', outputsize='full')\n",
    "data = predata[:1000]\n"
   ]
  },
  {
   "cell_type": "code",
   "execution_count": 3,
   "id": "1bfaa12d",
   "metadata": {},
   "outputs": [
    {
     "name": "stdout",
     "output_type": "stream",
     "text": [
      "            1. open  2. high    3. low  4. close    5. volume\n",
      "date                                                         \n",
      "2024-01-19   209.99   213.19  207.5600    212.19  102260343.0\n",
      "2024-01-18   216.88   217.45  208.7400    211.88  108595431.0\n",
      "2024-01-17   214.86   215.67  212.0100    215.55  103164400.0\n",
      "2024-01-16   215.10   223.49  212.1800    219.91  115355046.0\n",
      "2024-01-12   220.08   225.34  217.1501    218.89  123043812.0\n",
      "...             ...      ...       ...       ...          ...\n",
      "2020-02-05   823.26   845.98  704.1100    734.70   48423837.0\n",
      "2020-02-04   882.96   968.99  833.8800    887.06   60938758.0\n",
      "2020-02-03   673.69   786.14  673.5200    780.00   47233495.0\n",
      "2020-01-31   640.00   653.00  632.5200    650.57   15719266.0\n",
      "2020-01-30   632.42   650.88  618.0000    640.81   29005676.0\n",
      "\n",
      "[1000 rows x 5 columns]\n",
      "1000\n"
     ]
    }
   ],
   "source": [
    "print(data)\n",
    "print(len(data))"
   ]
  },
  {
   "cell_type": "code",
   "execution_count": 4,
   "id": "24505498",
   "metadata": {},
   "outputs": [
    {
     "name": "stdout",
     "output_type": "stream",
     "text": [
      "date\n",
      "2024-01-19    212.19\n",
      "2024-01-18    211.88\n",
      "2024-01-17    215.55\n",
      "2024-01-16    219.91\n",
      "2024-01-12    218.89\n",
      "               ...  \n",
      "2020-02-05    734.70\n",
      "2020-02-04    887.06\n",
      "2020-02-03    780.00\n",
      "2020-01-31    650.57\n",
      "2020-01-30    640.81\n",
      "Name: 4. close, Length: 1000, dtype: float64\n"
     ]
    }
   ],
   "source": [
    "# 3. Modify the dataset\n",
    "\n",
    "# Keep relevant columns - closing price and date\n",
    "closing_data = data['4. close']\n",
    "print(closing_data)"
   ]
  },
  {
   "cell_type": "code",
   "execution_count": 5,
   "id": "b31c7cfe",
   "metadata": {},
   "outputs": [
    {
     "name": "stdout",
     "output_type": "stream",
     "text": [
      "            4. close\n",
      "date                \n",
      "2024-01-19    212.19\n",
      "2024-01-18    211.88\n",
      "2024-01-17    215.55\n",
      "2024-01-16    219.91\n",
      "2024-01-12    218.89\n",
      "...              ...\n",
      "2020-02-05    734.70\n",
      "2020-02-04    887.06\n",
      "2020-02-03    780.00\n",
      "2020-01-31    650.57\n",
      "2020-01-30    640.81\n",
      "\n",
      "[1000 rows x 1 columns]\n",
      "            4. close\n",
      "date                \n",
      "2020-01-30    640.81\n",
      "2020-01-31    650.57\n",
      "2020-02-03    780.00\n",
      "2020-02-04    887.06\n",
      "2020-02-05    734.70\n",
      "...              ...\n",
      "2024-01-12    218.89\n",
      "2024-01-16    219.91\n",
      "2024-01-17    215.55\n",
      "2024-01-18    211.88\n",
      "2024-01-19    212.19\n",
      "\n",
      "[1000 rows x 1 columns]\n",
      "Training data:              4. close\n",
      "date                \n",
      "2020-01-30    640.81\n",
      "2020-01-31    650.57\n",
      "2020-02-03    780.00\n",
      "2020-02-04    887.06\n",
      "2020-02-05    734.70\n",
      "...              ...\n",
      "2023-08-21    231.28\n",
      "2023-08-22    233.19\n",
      "2023-08-23    236.86\n",
      "2023-08-24    230.04\n",
      "2023-08-25    238.59\n",
      "\n",
      "[900 rows x 1 columns]\n",
      "Testing data:              4. close\n",
      "date                \n",
      "2023-08-28    238.82\n",
      "2023-08-29    257.18\n",
      "2023-08-30    256.90\n",
      "2023-08-31    258.08\n",
      "2023-09-01    245.01\n",
      "...              ...\n",
      "2024-01-12    218.89\n",
      "2024-01-16    219.91\n",
      "2024-01-17    215.55\n",
      "2024-01-18    211.88\n",
      "2024-01-19    212.19\n",
      "\n",
      "[100 rows x 1 columns]\n"
     ]
    }
   ],
   "source": [
    "# 4. Separate the data into training and testing datasets\n",
    "\n",
    "# Create a DataFrame using the closing price data\n",
    "df = pd.DataFrame(closing_data)\n",
    "print(df)\n",
    "\n",
    "# Split data into 70-30 training-testing data sets\n",
    "# Sort df by ascending order (most recent date comes last)\n",
    "df.sort_index(ascending=True, inplace=True)\n",
    "print(df)\n",
    "\n",
    "\n",
    "# # Testing daily dataset instead of by minute\n",
    "# hourly_data = df.resample('D').mean()\n",
    "# df2 = pd.DataFrame(hourly_data)\n",
    "\n",
    "\n",
    "\n",
    "# train_size represents the first 90% of all rows; use this index to slice the data\n",
    "train_size = int(len(df) * 0.90)\n",
    "\n",
    "# Training data will include all rows starting from the first row up to the row indicated by 'train_size'\n",
    "train_data = df.iloc[:train_size]\n",
    "# The rest 10% will be included in testing data\n",
    "test_data = df.iloc[train_size:]\n",
    "\n",
    "print(\"Training data: \", train_data)\n",
    "print(\"Testing data: \", test_data)"
   ]
  },
  {
   "cell_type": "code",
   "execution_count": 6,
   "id": "1e2c8836",
   "metadata": {},
   "outputs": [
    {
     "data": {
      "text/plain": [
       "<AxesSubplot:xlabel='date'>"
      ]
     },
     "execution_count": 6,
     "metadata": {},
     "output_type": "execute_result"
    },
    {
     "data": {
      "image/png": "[encoded data removed]",
      "text/plain": [
       "<Figure size 640x480 with 1 Axes>"
      ]
     },
     "metadata": {},
     "output_type": "display_data"
    }
   ],
   "source": [
    "# 5.1 Visualize the data\n",
    "\n",
    "# Plot the data for visualization\n",
    "df.plot()"
   ]
  },
  {
   "cell_type": "code",
   "execution_count": 7,
   "id": "9c8e7a21",
   "metadata": {},
   "outputs": [
    {
     "name": "stdout",
     "output_type": "stream",
     "text": [
      "p-value:  0.06891550565971621\n",
      "p-value:  0.0\n",
      "\n",
      "d value:  1\n"
     ]
    }
   ],
   "source": [
    "# 5.2 Conduct the ADF test and determine the value for d \n",
    "\n",
    "# Conduct the ADF test, which determines if the data is stationary or not\n",
    "result = adfuller(df)\n",
    "\n",
    "# Keeps track of the number of times differencing was needed \n",
    "d = 0\n",
    "\n",
    "# If the data is not stationary, differencing is needed to convert it into stationary data\n",
    "# The p-value has to be less than 0.05 for the dataset to be considered stationary \n",
    "while True:\n",
    "    print('p-value: ', result[1])\n",
    "    if result[1] < 0.05:\n",
    "        break\n",
    "    else:\n",
    "        result = adfuller(df.diff().dropna())\n",
    "        d += 1\n",
    "\n",
    "print('\\nd value: ', d)"
   ]
  },
  {
   "cell_type": "code",
   "execution_count": 8,
   "id": "38d2bd85",
   "metadata": {},
   "outputs": [],
   "source": [
    "# 6. Optimize the parameters (p, d, q) and create the ARIMA model\n",
    "\n",
    "    # Determine (p,d,q) based on the data's characteristics\n",
    "    # ACF plot is used to determine p (autoregressive AR)\n",
    "    # PACF plot is used to determine q (moving average MA)\n",
    "    \n",
    "    # Create the ARIMA model object and fit it to the data\n",
    "    \n",
    "    # Examples of useful python code:\n",
    "    # p, d, q = 1, 1, 1\n",
    "    # model = ARIMA(data, order(p,d,q))\n",
    "    # model_fit = model.fit()"
   ]
  },
  {
   "cell_type": "code",
   "execution_count": 9,
   "id": "fe927f1d",
   "metadata": {},
   "outputs": [
    {
     "name": "stdout",
     "output_type": "stream",
     "text": [
      "            4. close\n",
      "date                \n",
      "2020-01-30    640.81\n",
      "2020-01-31    650.57\n",
      "2020-02-03    780.00\n",
      "2020-02-04    887.06\n",
      "2020-02-05    734.70\n",
      "...              ...\n",
      "2024-01-12    218.89\n",
      "2024-01-16    219.91\n",
      "2024-01-17    215.55\n",
      "2024-01-18    211.88\n",
      "2024-01-19    212.19\n",
      "\n",
      "[1000 rows x 1 columns]\n",
      "1000\n"
     ]
    },
    {
     "data": {
      "text/plain": [
       "<Figure size 1500x600 with 0 Axes>"
      ]
     },
     "metadata": {},
     "output_type": "display_data"
    },
    {
     "data": {
      "image/png": "[encoded data removed]",
      "text/plain": [
       "<Figure size 640x480 with 1 Axes>"
      ]
     },
     "metadata": {},
     "output_type": "display_data"
    },
    {
     "name": "stderr",
     "output_type": "stream",
     "text": [
      "/Users/monasabeti/opt/anaconda3/lib/python3.9/site-packages/statsmodels/graphics/tsaplots.py:348: FutureWarning: The default method 'yw' can produce PACF values outside of the [-1,1] interval. After 0.13, the default will change tounadjusted Yule-Walker ('ywm'). You can use this method now by setting method='ywm'.\n",
      "  warnings.warn(\n"
     ]
    },
    {
     "data": {
      "image/png": "[encoded data removed]",
      "text/plain": [
       "<Figure size 640x480 with 1 Axes>"
      ]
     },
     "metadata": {},
     "output_type": "display_data"
    }
   ],
   "source": [
    "# # Preprocess the data to show daily instead of by minute\n",
    "# hourly_data = df.resample('D').mean()\n",
    "# df = pd.DataFrame(hourly_data)\n",
    "\n",
    "\n",
    "print(df.dropna())\n",
    "print(len(df.dropna()))\n",
    "\n",
    "\n",
    "# ACF plot to determine q value (visu)\n",
    "plt.figure(figsize=(15, 6))\n",
    "plot_acf(df.dropna())\n",
    "plt.show()\n",
    "\n",
    "# PACF plot to determine p value \n",
    "plot_pacf(df.dropna(), lags=5)\n",
    "plt.show()\n",
    "\n"
   ]
  },
  {
   "cell_type": "code",
   "execution_count": 10,
   "id": "abf394ff",
   "metadata": {},
   "outputs": [
    {
     "name": "stdout",
     "output_type": "stream",
     "text": [
      "p value:  3\n",
      "q value:  3\n"
     ]
    }
   ],
   "source": [
    "# 6.1 Determine the best p and q values\n",
    "# The best p,q,d values will produce the lowest aic value \n",
    "\n",
    "import warnings\n",
    "warnings.filterwarnings(\"ignore\")\n",
    "\n",
    "# Defines ranges for p and q\n",
    "p = q = range(0, 4)\n",
    "\n",
    "# List to store all pdq combinations\n",
    "pdq = []\n",
    "# Appends each combination of p,d,q to the list\n",
    "for p_value in p:\n",
    "    for q_value in q:\n",
    "        pdq.append((p_value, d, q_value))\n",
    "\n",
    "# Initialize best aic to start at infinity\n",
    "best_aic = float('inf')  \n",
    "# Initialize best pqd combination \n",
    "best_pdq = None\n",
    "\n",
    "# Test each combination \n",
    "for combination in pdq:\n",
    "    # Fit the arima model \n",
    "    model = ARIMA(df, order=(combination))\n",
    "    model_fit = model.fit()\n",
    "    \n",
    "    # If the aic value is lower than the current best aic, it will be replaced\n",
    "    if model_fit.aic < best_aic:\n",
    "        best_aic = model_fit.aic\n",
    "        best_pdq = combination\n",
    "\n",
    "# Extract the p and q values\n",
    "p = best_pdq[0]\n",
    "q = best_pdq[2]\n",
    "\n",
    "print('p value: ', p)\n",
    "print('q value: ', q)"
   ]
  },
  {
   "cell_type": "code",
   "execution_count": 11,
   "id": "943f6e15",
   "metadata": {},
   "outputs": [
    {
     "name": "stdout",
     "output_type": "stream",
     "text": [
      "                               SARIMAX Results                                \n",
      "==============================================================================\n",
      "Dep. Variable:               4. close   No. Observations:                 1000\n",
      "Model:                 ARIMA(3, 1, 3)   Log Likelihood               -5583.612\n",
      "Date:                Sun, 21 Jan 2024   AIC                          11181.223\n",
      "Time:                        21:07:13   BIC                          11215.570\n",
      "Sample:                             0   HQIC                         11194.278\n",
      "                               - 1000                                         \n",
      "Covariance Type:                  opg                                         \n",
      "==============================================================================\n",
      "                 coef    std err          z      P>|z|      [0.025      0.975]\n",
      "------------------------------------------------------------------------------\n",
      "ar.L1         -1.7417      0.461     -3.782      0.000      -2.644      -0.839\n",
      "ar.L2         -1.7193      0.420     -4.092      0.000      -2.543      -0.896\n",
      "ar.L3         -0.8144      0.451     -1.805      0.071      -1.699       0.070\n",
      "ma.L1          1.7657      0.432      4.086      0.000       0.919       2.613\n",
      "ma.L2          1.7733      0.398      4.461      0.000       0.994       2.553\n",
      "ma.L3          0.8637      0.434      1.992      0.046       0.014       1.714\n",
      "sigma2      4228.7044     49.572     85.305      0.000    4131.545    4325.863\n",
      "===================================================================================\n",
      "Ljung-Box (L1) (Q):                   0.03   Jarque-Bera (JB):           9523588.45\n",
      "Prob(Q):                              0.86   Prob(JB):                         0.00\n",
      "Heteroskedasticity (H):               0.01   Skew:                           -18.65\n",
      "Prob(H) (two-sided):                  0.00   Kurtosis:                       479.87\n",
      "===================================================================================\n",
      "\n",
      "Warnings:\n",
      "[1] Covariance matrix calculated using the outer product of gradients (complex-step).\n"
     ]
    }
   ],
   "source": [
    "# 6.2 Create the ARIMA model with the p, d, q values determined\n",
    "model = ARIMA(df, order=(p,d,q))\n",
    "model_fit = model.fit()\n",
    "print(model_fit.summary())"
   ]
  },
  {
   "cell_type": "code",
   "execution_count": 12,
   "id": "4a8ebe41",
   "metadata": {},
   "outputs": [
    {
     "name": "stdout",
     "output_type": "stream",
     "text": [
      "                               SARIMAX Results                                \n",
      "==============================================================================\n",
      "Dep. Variable:               4. close   No. Observations:                  900\n",
      "Model:                 ARIMA(3, 1, 3)   Log Likelihood               -5071.945\n",
      "Date:                Sun, 21 Jan 2024   AIC                          10157.890\n",
      "Time:                        21:07:15   BIC                          10191.499\n",
      "Sample:                             0   HQIC                         10170.730\n",
      "                                - 900                                         \n",
      "Covariance Type:                  opg                                         \n",
      "==============================================================================\n",
      "                 coef    std err          z      P>|z|      [0.025      0.975]\n",
      "------------------------------------------------------------------------------\n",
      "ar.L1         -1.7736      0.455     -3.899      0.000      -2.665      -0.882\n",
      "ar.L2         -1.7507      0.418     -4.184      0.000      -2.571      -0.931\n",
      "ar.L3         -0.8496      0.447     -1.900      0.057      -1.726       0.027\n",
      "ma.L1          1.7932      0.426      4.211      0.000       0.959       2.628\n",
      "ma.L2          1.7970      0.396      4.539      0.000       1.021       2.573\n",
      "ma.L3          0.8921      0.428      2.082      0.037       0.052       1.732\n",
      "sigma2      4698.1081     62.121     75.628      0.000    4576.353    4819.863\n",
      "===================================================================================\n",
      "Ljung-Box (L1) (Q):                   0.08   Jarque-Bera (JB):           7028572.03\n",
      "Prob(Q):                              0.78   Prob(JB):                         0.00\n",
      "Heteroskedasticity (H):               0.12   Skew:                           -17.79\n",
      "Prob(H) (two-sided):                  0.00   Kurtosis:                       434.71\n",
      "===================================================================================\n",
      "\n",
      "Warnings:\n",
      "[1] Covariance matrix calculated using the outer product of gradients (complex-step).\n"
     ]
    }
   ],
   "source": [
    "# 6.3 Train the ARIMA model with the training data and the p, d, q values determined\n",
    "model = ARIMA(train_data['4. close'], order=(p,d,q))\n",
    "model_fit = model.fit()\n",
    "print(model_fit.summary())"
   ]
  },
  {
   "cell_type": "code",
   "execution_count": 13,
   "id": "38f5aa97",
   "metadata": {},
   "outputs": [
    {
     "name": "stdout",
     "output_type": "stream",
     "text": [
      "steps:  7\n",
      "Predicted value:\n",
      " 900    240.965259\n",
      "901    240.183487\n",
      "902    239.019084\n",
      "903    240.434809\n",
      "904    240.626682\n",
      "905    238.797145\n",
      "906    240.503217\n",
      "Name: predicted_mean, dtype: float64\n",
      "\n",
      "Actual value:\n",
      "             4. close\n",
      "date                \n",
      "2023-08-28    238.82\n",
      "2023-08-29    257.18\n",
      "2023-08-30    256.90\n",
      "2023-08-31    258.08\n",
      "2023-09-01    245.01\n",
      "...              ...\n",
      "2024-01-12    218.89\n",
      "2024-01-16    219.91\n",
      "2024-01-17    215.55\n",
      "2024-01-18    211.88\n",
      "2024-01-19    212.19\n",
      "\n",
      "[100 rows x 1 columns]\n"
     ]
    }
   ],
   "source": [
    "# 7. Make out-of-sample predictions (forecasting)\n",
    "\n",
    "# fit the model to the training data\n",
    "model = ARIMA(train_data, order=(p,d,q))\n",
    "model_fit = model.fit()\n",
    "\n",
    "# make future predictions for the next week\n",
    "forecast_steps = 7\n",
    "print(\"steps: \", forecast_steps)\n",
    "# use steps parameter for # of future steps to forecast\n",
    "forecast = model_fit.forecast(steps=forecast_steps)\n",
    "print(\"Predicted value:\\n\", forecast)\n",
    "\n",
    "print(\"\\nActual value:\\n\", test_data.dropna())"
   ]
  },
  {
   "cell_type": "code",
   "execution_count": 18,
   "id": "c8d45a5e",
   "metadata": {},
   "outputs": [
    {
     "name": "stdout",
     "output_type": "stream",
     "text": [
      "Predicted value for tomorrow:  210.03662135419918\n"
     ]
    }
   ],
   "source": [
    "# 8. Make a prediction for the closing price of the next day\n",
    "\n",
    "# Fit the model to all the data\n",
    "model = ARIMA(df, order=(p,d,q))\n",
    "model_fit = model.fit()\n",
    "\n",
    "# Make prediction for the next day\n",
    "forecast = model_fit.forecast(steps=1)\n",
    "print(\"Predicted value for tomorrow: \", forecast.iloc[0])"
   ]
  },
  {
   "cell_type": "code",
   "execution_count": null,
   "id": "0285827d",
   "metadata": {},
   "outputs": [],
   "source": []
  }
 ],
 "metadata": {
  "kernelspec": {
   "display_name": "Python 3 (ipykernel)",
   "language": "python",
   "name": "python3"
  },
  "language_info": {
   "codemirror_mode": {
    "name": "ipython",
    "version": 3
   },
   "file_extension": ".py",
   "mimetype": "text/x-python",
   "name": "python",
   "nbconvert_exporter": "python",
   "pygments_lexer": "ipython3",
   "version": "3.9.13"
  }
 },
 "nbformat": 4,
 "nbformat_minor": 5
}
